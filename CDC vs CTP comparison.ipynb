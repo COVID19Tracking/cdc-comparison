{
 "cells": [
  {
   "cell_type": "code",
   "execution_count": 22,
   "metadata": {},
   "outputs": [],
   "source": [
    "import matplotlib.pyplot as plt\n",
    "\n",
    "import numpy as np\n",
    "import pandas as pd\n",
    "import seaborn as sns"
   ]
  },
  {
   "cell_type": "code",
   "execution_count": 23,
   "metadata": {},
   "outputs": [],
   "source": [
    "# read data\n",
    "cdc = pd.read_csv('cdc.csv', skiprows=2)\n",
    "\n",
    "# rename some CDC columns\n",
    "cdc.rename(columns={\n",
    "    'abbr': 'state',\n",
    "    'Total Cases': 'cdc_total_cases',\n",
    "    'Total Death': 'cdc_total_death',\n",
    "    'CasesInLast7Days': 'cdc_cases_last_7_days',\n",
    "    'RatePer100000': 'cdc_rate_per_100000',\n",
    "    'Total Tests Performed': 'cdc_total_tests',\n",
    "    'Percent Positive Range': 'cdc_percent_positive_range',\n",
    "    'cumulative_positive_tests': 'cdc_cumulative_positive_tests'\n",
    "}, inplace=True)"
   ]
  },
  {
   "cell_type": "code",
   "execution_count": 24,
   "metadata": {},
   "outputs": [
    {
     "data": {
      "text/html": [
       "<div>\n",
       "<style scoped>\n",
       "    .dataframe tbody tr th:only-of-type {\n",
       "        vertical-align: middle;\n",
       "    }\n",
       "\n",
       "    .dataframe tbody tr th {\n",
       "        vertical-align: top;\n",
       "    }\n",
       "\n",
       "    .dataframe thead th {\n",
       "        text-align: right;\n",
       "    }\n",
       "</style>\n",
       "<table border=\"1\" class=\"dataframe\">\n",
       "  <thead>\n",
       "    <tr style=\"text-align: right;\">\n",
       "      <th></th>\n",
       "      <th>state</th>\n",
       "      <th>jurisdiction</th>\n",
       "      <th>cdc_total_cases</th>\n",
       "      <th>cdc_total_death</th>\n",
       "      <th>cdc_total_tests</th>\n",
       "      <th>ctp_total_tests_for_analysis</th>\n",
       "    </tr>\n",
       "  </thead>\n",
       "  <tbody>\n",
       "    <tr>\n",
       "      <th>0</th>\n",
       "      <td>AK</td>\n",
       "      <td>Alaska</td>\n",
       "      <td>388</td>\n",
       "      <td>10</td>\n",
       "      <td>46589.0</td>\n",
       "      <td>31762.0</td>\n",
       "    </tr>\n",
       "    <tr>\n",
       "      <th>1</th>\n",
       "      <td>AL</td>\n",
       "      <td>Alabama</td>\n",
       "      <td>11642</td>\n",
       "      <td>484</td>\n",
       "      <td>168687.0</td>\n",
       "      <td>141985.0</td>\n",
       "    </tr>\n",
       "    <tr>\n",
       "      <th>2</th>\n",
       "      <td>AR</td>\n",
       "      <td>Arkansas</td>\n",
       "      <td>4463</td>\n",
       "      <td>98</td>\n",
       "      <td>84496.0</td>\n",
       "      <td>75818.0</td>\n",
       "    </tr>\n",
       "    <tr>\n",
       "      <th>3</th>\n",
       "      <td>AZ</td>\n",
       "      <td>Arizona</td>\n",
       "      <td>13169</td>\n",
       "      <td>651</td>\n",
       "      <td>210388.0</td>\n",
       "      <td>134338.0</td>\n",
       "    </tr>\n",
       "    <tr>\n",
       "      <th>4</th>\n",
       "      <td>CA</td>\n",
       "      <td>California</td>\n",
       "      <td>74936</td>\n",
       "      <td>3108</td>\n",
       "      <td>924696.0</td>\n",
       "      <td>1104651.0</td>\n",
       "    </tr>\n",
       "  </tbody>\n",
       "</table>\n",
       "</div>"
      ],
      "text/plain": [
       "  state jurisdiction  cdc_total_cases  cdc_total_death  cdc_total_tests  \\\n",
       "0    AK       Alaska              388               10          46589.0   \n",
       "1    AL      Alabama            11642              484         168687.0   \n",
       "2    AR     Arkansas             4463               98          84496.0   \n",
       "3    AZ      Arizona            13169              651         210388.0   \n",
       "4    CA   California            74936             3108         924696.0   \n",
       "\n",
       "   ctp_total_tests_for_analysis  \n",
       "0                       31762.0  \n",
       "1                      141985.0  \n",
       "2                       75818.0  \n",
       "3                      134338.0  \n",
       "4                     1104651.0  "
      ]
     },
     "execution_count": 24,
     "metadata": {},
     "output_type": "execute_result"
    }
   ],
   "source": [
    "# Use CTP 5/14 for comparing test counts\n",
    "\n",
    "ctp_514_tests = pd.read_csv('ctp_514.csv')\n",
    "ctp_514_test_overrides = pd.read_csv('ctp_514_specimen_tests.csv')\n",
    "\n",
    "ctp_514_merged_df = pd.merge(\n",
    "    ctp_514_tests, ctp_514_test_overrides, on=['state', 'date'], how='inner', sort=True, copy=True)\n",
    "\n",
    "def pick_total_tests_for_analysis(row):\n",
    "    # if total tests specimens is present, use that. otherwise, use total tests people\n",
    "    return row.total_tests_specimens if not pd.isnull(row.total_tests_specimens) else row.total_tests_people\n",
    "\n",
    "ctp_514_merged_df['ctp_total_tests_for_analysis'] = ctp_514_merged_df.apply(pick_total_tests_for_analysis, axis=1)\n",
    "\n",
    "# merge with CTP reported data - only keeping rows for which both CDC and CTP report data\n",
    "merged_df_test_counts = pd.merge(\n",
    "    cdc, ctp_514_merged_df, on=['state', 'fips'], how='inner', sort=True, copy=True)\n",
    "\n",
    "# of this, keep only some interesting columns:\n",
    "# state, jurisdiction, cdc_total_cases, cdc_total_death, cdc_total_tests\n",
    "cols_to_keep = ['state', 'jurisdiction', 'cdc_total_cases', 'cdc_total_death', 'cdc_total_tests',\n",
    "               'ctp_total_tests_for_analysis']\n",
    "merged_df_test_counts = merged_df_test_counts[cols_to_keep]\n",
    "merged_df_test_counts.head()"
   ]
  },
  {
   "cell_type": "code",
   "execution_count": 25,
   "metadata": {},
   "outputs": [
    {
     "data": {
      "text/html": [
       "<div>\n",
       "<style scoped>\n",
       "    .dataframe tbody tr th:only-of-type {\n",
       "        vertical-align: middle;\n",
       "    }\n",
       "\n",
       "    .dataframe tbody tr th {\n",
       "        vertical-align: top;\n",
       "    }\n",
       "\n",
       "    .dataframe thead th {\n",
       "        text-align: right;\n",
       "    }\n",
       "</style>\n",
       "<table border=\"1\" class=\"dataframe\">\n",
       "  <thead>\n",
       "    <tr style=\"text-align: right;\">\n",
       "      <th></th>\n",
       "      <th>state</th>\n",
       "      <th>positive</th>\n",
       "      <th>death</th>\n",
       "    </tr>\n",
       "  </thead>\n",
       "  <tbody>\n",
       "    <tr>\n",
       "      <th>0</th>\n",
       "      <td>AK</td>\n",
       "      <td>392.0</td>\n",
       "      <td>10.0</td>\n",
       "    </tr>\n",
       "    <tr>\n",
       "      <th>1</th>\n",
       "      <td>AL</td>\n",
       "      <td>11523.0</td>\n",
       "      <td>485.0</td>\n",
       "    </tr>\n",
       "    <tr>\n",
       "      <th>2</th>\n",
       "      <td>AR</td>\n",
       "      <td>4578.0</td>\n",
       "      <td>98.0</td>\n",
       "    </tr>\n",
       "    <tr>\n",
       "      <th>3</th>\n",
       "      <td>AZ</td>\n",
       "      <td>13631.0</td>\n",
       "      <td>679.0</td>\n",
       "    </tr>\n",
       "    <tr>\n",
       "      <th>4</th>\n",
       "      <td>CA</td>\n",
       "      <td>76793.0</td>\n",
       "      <td>3204.0</td>\n",
       "    </tr>\n",
       "  </tbody>\n",
       "</table>\n",
       "</div>"
      ],
      "text/plain": [
       "  state  positive   death\n",
       "0    AK     392.0    10.0\n",
       "1    AL   11523.0   485.0\n",
       "2    AR    4578.0    98.0\n",
       "3    AZ   13631.0   679.0\n",
       "4    CA   76793.0  3204.0"
      ]
     },
     "execution_count": 25,
     "metadata": {},
     "output_type": "execute_result"
    }
   ],
   "source": [
    "# will use CTP 5/16 for comparing positives/deaths\n",
    "ctp_516_positives_deaths = pd.read_csv('ctp_516.csv')\n",
    "cols_to_keep = ['state', 'positive', 'death']\n",
    "ctp_516_positives_deaths = ctp_516_positives_deaths[cols_to_keep]\n",
    "ctp_516_positives_deaths.head()"
   ]
  },
  {
   "cell_type": "markdown",
   "metadata": {},
   "source": [
    "# Make a minimal dataframe for analysis containing only final columns"
   ]
  },
  {
   "cell_type": "code",
   "execution_count": 26,
   "metadata": {},
   "outputs": [],
   "source": [
    "full_merged_df = pd.merge(\n",
    "    merged_df_test_counts, ctp_516_positives_deaths, on=['state'], how='inner', sort=True, copy=True)\n",
    "# rename some CDC columns\n",
    "full_merged_df.rename(columns={\n",
    "    'positive': 'ctp_total_cases',\n",
    "    'death': 'ctp_total_death',\n",
    "}, inplace=True)\n",
    "full_merged_df.set_index('state', inplace=True)\n",
    "full_merged_df.to_csv('merged_data_for_analysis.csv')"
   ]
  },
  {
   "cell_type": "code",
   "execution_count": 27,
   "metadata": {},
   "outputs": [],
   "source": [
    "full_merged_df['test_count_diff'] = \\\n",
    "    full_merged_df['cdc_total_tests'] - full_merged_df['ctp_total_tests_for_analysis']\n",
    "full_merged_df['abs_test_count_diff'] = \\\n",
    "    abs(full_merged_df['cdc_total_tests'] - full_merged_df['ctp_total_tests_for_analysis'])\n",
    "full_merged_df['test_count_percent_diff'] = \\\n",
    "    full_merged_df['test_count_diff']/full_merged_df['ctp_total_tests_for_analysis']\n",
    "# sort by test_count_diff\n",
    "full_merged_df.sort_values('test_count_diff', inplace=True)"
   ]
  },
  {
   "cell_type": "code",
   "execution_count": 28,
   "metadata": {},
   "outputs": [
    {
     "data": {
      "text/plain": [
       "Text(0.5, 1.0, 'Test count differences between CDC and CTP data')"
      ]
     },
     "execution_count": 28,
     "metadata": {},
     "output_type": "execute_result"
    },
    {
     "data": {
      "image/png": "[encoded data removed]",
      "text/plain": [
       "<Figure size 1296x576 with 1 Axes>"
      ]
     },
     "metadata": {
      "needs_background": "light"
     },
     "output_type": "display_data"
    }
   ],
   "source": [
    "plt.figure(figsize=(18,8))\n",
    "\n",
    "ax = sns.barplot(x=full_merged_df.index, y='test_count_diff', data=full_merged_df, color='b')\n",
    "ax.set_ylabel('Test count difference', fontsize=14)\n",
    "ax.set_xlabel('')\n",
    "ax.set_title('Test count differences between CDC and CTP data', fontsize=24)"
   ]
  },
  {
   "cell_type": "code",
   "execution_count": 29,
   "metadata": {},
   "outputs": [
    {
     "name": "stdout",
     "output_type": "stream",
     "text": [
      "Within 1000: 5 states\n",
      "Within 10 percent: 29 states\n",
      "Within 20 percent: 35 states\n",
      "Within 30 percent: 41 states\n",
      "Over 25 percent: 13 states\n"
     ]
    }
   ],
   "source": [
    "# how close is our data to CDC?\n",
    "\n",
    "print('Within 1000: %d states' % sum(\n",
    "    full_merged_df.apply(lambda row: abs(row.test_count_diff) < 1000, axis=1)))\n",
    "print('Within 10 percent: %d states' % sum(\n",
    "    full_merged_df.apply(lambda row: abs(row.test_count_percent_diff) < 0.1, axis=1)))\n",
    "print('Within 20 percent: %d states' % sum(\n",
    "    full_merged_df.apply(lambda row: abs(row.test_count_percent_diff) < 0.2, axis=1)))\n",
    "print('Within 30 percent: %d states' % sum(\n",
    "    full_merged_df.apply(lambda row: abs(row.test_count_percent_diff) < 0.3, axis=1)))\n",
    "print('Over 25 percent: %d states' % sum(\n",
    "    full_merged_df.apply(lambda row: abs(row.test_count_percent_diff) > 0.25, axis=1)))"
   ]
  },
  {
   "cell_type": "markdown",
   "metadata": {},
   "source": [
    "# What are the most divergent states, by test counts?"
   ]
  },
  {
   "cell_type": "code",
   "execution_count": 30,
   "metadata": {},
   "outputs": [
    {
     "name": "stdout",
     "output_type": "stream",
     "text": [
      "Florida: 919109 CDC, 691653 CTP tests\n",
      "California: 924696 CDC, 1104651 CTP tests\n",
      "Texas: 454133 CDC, 623284 CTP tests\n",
      "Massachusetts: 574645 CDC, 410032 CTP tests\n",
      "Tennessee: 398173 CDC, 302317 CTP tests\n",
      "Indiana: 253619 CDC, 160239 CTP tests\n",
      "Arizona: 210388 CDC, 134338 CTP tests\n",
      "North Carolina: 151449 CDC, 219268 CTP tests\n",
      "Colorado: 173626 CDC, 112505 CTP tests\n",
      "Maryland: 232086 CDC, 178454 CTP tests\n"
     ]
    }
   ],
   "source": [
    "# Most divergent states by test counts\n",
    "for i, row in full_merged_df.sort_values('abs_test_count_diff', ascending=False).head(10).iterrows():\n",
    "    print('%s: %d CDC, %d CTP tests' % (row.jurisdiction, row.cdc_total_tests, row.ctp_total_tests_for_analysis))"
   ]
  },
  {
   "cell_type": "markdown",
   "metadata": {},
   "source": [
    "# Correlation between CTP and CDC data: tests, positives, deaths"
   ]
  },
  {
   "cell_type": "code",
   "execution_count": 31,
   "metadata": {},
   "outputs": [
    {
     "data": {
      "image/png": "[encoded data removed]",
      "text/plain": [
       "<Figure size 864x288 with 3 Axes>"
      ]
     },
     "metadata": {
      "needs_background": "light"
     },
     "output_type": "display_data"
    }
   ],
   "source": [
    "# plot all 3 together\n",
    "\n",
    "fig, axes = plt.subplots(nrows=1, ncols=3, figsize=(12,4))\n",
    "fig.tight_layout(pad=3.0)\n",
    "\n",
    "def plot_gray_yx(ax):\n",
    "    lims = [\n",
    "        np.min([ax.get_xlim(), ax.get_ylim()]),  # min of both axes\n",
    "        np.max([ax.get_xlim(), ax.get_ylim()]),  # max of both axes\n",
    "    ]\n",
    "    # now plot both limits against eachother\n",
    "    ax.plot(lims, lims, 'k-', alpha=0.75, zorder=0, linestyle='--', color='gray')\n",
    "\n",
    "# Testing counts\n",
    "\n",
    "ax = axes[0]\n",
    "sns.scatterplot(x='ctp_total_tests_for_analysis', y='cdc_total_tests', data=full_merged_df, ax=ax)\n",
    "ax.set_ylabel('CDC total tests', fontsize=14)\n",
    "ax.set_xlabel('CTP total tests', fontsize=14)\n",
    "ax.set_xticklabels('')\n",
    "ax.set_yticklabels('')\n",
    "ax.set_title('Test counts', fontsize=18)\n",
    "plot_gray_yx(ax)\n",
    "\n",
    "# Case counts\n",
    "\n",
    "ax=axes[1]\n",
    "sns.scatterplot(x='ctp_total_cases', y='cdc_total_cases', data=full_merged_df, ax=ax)\n",
    "ax.set_ylabel('CDC total cases', fontsize=14)\n",
    "ax.set_xlabel('CTP total cases', fontsize=14)\n",
    "ax.set_xticklabels('')\n",
    "ax.set_yticklabels('')\n",
    "ax.set_title('Positive counts', fontsize=18)\n",
    "plot_gray_yx(ax)\n",
    "\n",
    "# Death counts\n",
    "\n",
    "ax = axes[2]\n",
    "sns.scatterplot(x='ctp_total_death', y='cdc_total_death', data=full_merged_df, ax=ax)\n",
    "ax.set_ylabel('CDC total deaths', fontsize=14)\n",
    "ax.set_xlabel('CTP total deaths', fontsize=14)\n",
    "ax.set_xticklabels('')\n",
    "ax.set_yticklabels('')\n",
    "ax.set_title('Death counts', fontsize=18)\n",
    "plot_gray_yx(ax)"
   ]
  }
 ],
 "metadata": {
  "kernelspec": {
   "display_name": "Python 3",
   "language": "python",
   "name": "python3"
  },
  "language_info": {
   "codemirror_mode": {
    "name": "ipython",
    "version": 3
   },
   "file_extension": ".py",
   "mimetype": "text/x-python",
   "name": "python",
   "nbconvert_exporter": "python",
   "pygments_lexer": "ipython3",
   "version": "3.6.7"
  }
 },
 "nbformat": 4,
 "nbformat_minor": 2
}
